{
 "cells": [
  {
   "cell_type": "code",
   "execution_count": 1,
   "id": "9abd3257",
   "metadata": {},
   "outputs": [
    {
     "data": {
      "text/html": [
       "<style>.container { width:100% !important; }</style>"
      ],
      "text/plain": [
       "<IPython.core.display.HTML object>"
      ]
     },
     "metadata": {},
     "output_type": "display_data"
    }
   ],
   "source": [
    "# use these magic spells to update your classes methods on-the-fly as you edit them:\n",
    "%reload_ext autoreload\n",
    "%autoreload 2\n",
    "from pprint import pprint\n",
    "import json\n",
    "from IPython.core.display import display, HTML, Markdown\n",
    "import ipywidgets as widgets\n",
    "# %run includeme.ipynb # include a notebook from this same directory\n",
    "display(HTML(\"<style>.container { width:100% !important; }</style>\"))"
   ]
  },
  {
   "cell_type": "code",
   "execution_count": null,
   "id": "caac0ad8",
   "metadata": {},
   "outputs": [],
   "source": [
    "from nb_backend import Caller"
   ]
  },
  {
   "cell_type": "code",
   "execution_count": null,
   "id": "c3b6d614",
   "metadata": {},
   "outputs": [],
   "source": [
    "caller = Caller(port=8080, slug=\"/api_v1/person/\")"
   ]
  },
  {
   "cell_type": "code",
   "execution_count": null,
   "id": "0418b56c",
   "metadata": {},
   "outputs": [],
   "source": [
    "print(caller)"
   ]
  },
  {
   "cell_type": "code",
   "execution_count": null,
   "id": "2ad08f7f",
   "metadata": {},
   "outputs": [],
   "source": [
    "schema = {} # get the schema from swagger"
   ]
  },
  {
   "cell_type": "code",
   "execution_count": null,
   "id": "66c148d6",
   "metadata": {},
   "outputs": [],
   "source": [
    "caller.req(\"POST\", \"create/\", verbose=True, json_= schema)"
   ]
  },
  {
   "cell_type": "code",
   "execution_count": null,
   "id": "f5ed0dee",
   "metadata": {},
   "outputs": [],
   "source": [
    "# erroneous call\n",
    "caller.req(\"POST\", \"create/\", verbose=True, json_= {\n",
    "    \"paska\" : 1\n",
    "})"
   ]
  },
  {
   "cell_type": "code",
   "execution_count": null,
   "id": "70294bec",
   "metadata": {},
   "outputs": [],
   "source": [
    "reply_=caller.req(\"GET\", \"read/\", verbose=True)"
   ]
  },
  {
   "cell_type": "code",
   "execution_count": null,
   "id": "31cc8ec8",
   "metadata": {},
   "outputs": [],
   "source": [
    "reply=json.loads(reply_); pprint(reply)"
   ]
  },
  {
   "cell_type": "code",
   "execution_count": null,
   "id": "7806e243",
   "metadata": {},
   "outputs": [],
   "source": [
    "uuid = reply[\"persons\"][0][\"uuid\"]\n",
    "print(uuid)"
   ]
  },
  {
   "cell_type": "code",
   "execution_count": null,
   "id": "3683faf6",
   "metadata": {},
   "outputs": [],
   "source": [
    "print(\"CHANGING\", uuid)\n",
    "new_ = reply[\"persons\"][0]; new_[\"email\"] = \"CHANGED\"\n",
    "caller.req(\"PUT\", \"update/\", verbose = True, json_ = new_)"
   ]
  },
  {
   "cell_type": "code",
   "execution_count": null,
   "id": "241b2089",
   "metadata": {},
   "outputs": [],
   "source": [
    "pprint(json.loads(caller.req(\"GET\", \"read/\", verbose=True)))"
   ]
  },
  {
   "cell_type": "code",
   "execution_count": null,
   "id": "7f7bd955",
   "metadata": {},
   "outputs": [],
   "source": [
    "print(\"DELETING\", uuid)\n",
    "caller.req(\"DELETE\", \"delete/\", verbose = True, json_ = {\"uuid\":uuid})"
   ]
  },
  {
   "cell_type": "code",
   "execution_count": null,
   "id": "84843cb9",
   "metadata": {},
   "outputs": [],
   "source": [
    "pprint(json.loads(caller.req(\"GET\", \"read/\", verbose=True)))"
   ]
  },
  {
   "cell_type": "code",
   "execution_count": null,
   "id": "37a04e1f",
   "metadata": {},
   "outputs": [],
   "source": []
  }
 ],
 "metadata": {
  "kernelspec": {
   "display_name": "Python 3",
   "language": "python",
   "name": "python3"
  },
  "language_info": {
   "codemirror_mode": {
    "name": "ipython",
    "version": 3
   },
   "file_extension": ".py",
   "mimetype": "text/x-python",
   "name": "python",
   "nbconvert_exporter": "python",
   "pygments_lexer": "ipython3",
   "version": "3.8.10"
  },
  "varInspector": {
   "cols": {
    "lenName": 16,
    "lenType": 16,
    "lenVar": 40
   },
   "kernels_config": {
    "python": {
     "delete_cmd_postfix": "",
     "delete_cmd_prefix": "del ",
     "library": "var_list.py",
     "varRefreshCmd": "print(var_dic_list())"
    },
    "r": {
     "delete_cmd_postfix": ") ",
     "delete_cmd_prefix": "rm(",
     "library": "var_list.r",
     "varRefreshCmd": "cat(var_dic_list()) "
    }
   },
   "types_to_exclude": [
    "module",
    "function",
    "builtin_function_or_method",
    "instance",
    "_Feature"
   ],
   "window_display": false
  }
 },
 "nbformat": 4,
 "nbformat_minor": 5
}
