{
 "cells": [
  {
   "cell_type": "code",
   "execution_count": 2,
   "id": "686bb856",
   "metadata": {},
   "outputs": [
    {
     "data": {
      "text/html": [
       "<style>.container { width:100% !important; }</style>"
      ],
      "text/plain": [
       "<IPython.core.display.HTML object>"
      ]
     },
     "metadata": {},
     "output_type": "display_data"
    }
   ],
   "source": [
    "# use these magic spells to update your classes methods on-the-fly as you edit them:\n",
    "%reload_ext autoreload\n",
    "%autoreload 2\n",
    "from pprint import pprint\n",
    "from IPython.core.display import display, HTML, Markdown\n",
    "import ipywidgets as widgets\n",
    "# %run includeme.ipynb # include a notebook from this same directory\n",
    "display(HTML(\"<style>.container { width:100% !important; }</style>\"))\n",
    "import configparser"
   ]
  },
  {
   "cell_type": "code",
   "execution_count": null,
   "id": "bb11909f",
   "metadata": {},
   "outputs": [],
   "source": [
    "# a helper function\n",
    "def orm2dict(obj):\n",
    "    \"\"\"Sql alchemy orm object to dictionary\n",
    "\n",
    "    as per: https://stackoverflow.com/questions/1958219/how-to-convert-sqlalchemy-row-object-to-a-python-dict\n",
    "    \"\"\"\n",
    "    return {c.name: getattr(obj, c.name) for c in obj.__table__.columns}"
   ]
  },
  {
   "cell_type": "code",
   "execution_count": null,
   "id": "49d14727",
   "metadata": {},
   "outputs": [],
   "source": [
    "# TODO: set the abs path to your ini file\n",
    "config_file = \"/path/to/ini/file.ini\"\n",
    "!ls {config_file}"
   ]
  },
  {
   "cell_type": "code",
   "execution_count": null,
   "id": "87a062c3",
   "metadata": {},
   "outputs": [],
   "source": [
    "# test reading postgresql adr from config file\n",
    "cfg = configparser.ConfigParser()\n",
    "cfg.read(config_file)\n",
    "sql_adr = cfg[\"DEFAULT\"][\"sqlalchemy_url\"]\n",
    "print(\"database adr:\",sql_adr)"
   ]
  },
  {
   "cell_type": "code",
   "execution_count": null,
   "id": "a9225c33",
   "metadata": {},
   "outputs": [],
   "source": [
    "from sqlalchemy import create_engine\n",
    "from sqlalchemy.orm import sessionmaker\n",
    "from my_backend.api_v1.model import *"
   ]
  },
  {
   "cell_type": "code",
   "execution_count": null,
   "id": "d7347c77",
   "metadata": {},
   "outputs": [],
   "source": [
    "# check out data schemas for API input and output\n",
    "pprint(User.Cout.schema())\n",
    "pprint(User.Cin.schema())\n",
    "pprint(AdminUser.Cin.schema())"
   ]
  },
  {
   "cell_type": "code",
   "execution_count": null,
   "id": "c5a25ac6",
   "metadata": {},
   "outputs": [],
   "source": [
    "from my_backend.session import SessionBase\n",
    "from my_backend.api_v1.model.base import colsFromPydantic\n",
    "from my_backend.tool import loadConfig\n",
    "loadConfig(config_file)"
   ]
  },
  {
   "cell_type": "code",
   "execution_count": null,
   "id": "bdc3ff1f",
   "metadata": {},
   "outputs": [],
   "source": [
    "# create a Session class\n",
    "class Session(SessionBase):\n",
    "    sqlalchemy_url = cfg[\"DEFAULT\"][\"sqlalchemy_url\"]\n",
    "    to_http_exc = False"
   ]
  },
  {
   "cell_type": "code",
   "execution_count": null,
   "id": "b4f16768",
   "metadata": {},
   "outputs": [],
   "source": [
    "# add 10 users\n",
    "for i in range(10):\n",
    "    with Session() as ses:\n",
    "        user = User(name=\"kikkelis\"+str(i), email=\"kokkelis\"+str(i), extradata=\"some extra data\"+str(i))\n",
    "        ses.add(user)"
   ]
  },
  {
   "cell_type": "code",
   "execution_count": null,
   "id": "01f4fd78",
   "metadata": {},
   "outputs": [],
   "source": [
    "# query users\n",
    "lis = []\n",
    "with Session() as ses:\n",
    "    # pick certain columns as defined in \n",
    "    # pydantic model User.Rout for ses.query\n",
    "    query = ses.query(*(colsFromPydantic(User, User.Rout)))\n",
    "    # query.all() returns a list of User objects\n",
    "    for user in query.all():\n",
    "        lis.append(User.Rout(**user))\n",
    "pprint(lis)"
   ]
  },
  {
   "cell_type": "code",
   "execution_count": null,
   "id": "a6126016",
   "metadata": {},
   "outputs": [],
   "source": [
    "uuid = lis[0].uuid\n",
    "print(uuid)"
   ]
  },
  {
   "cell_type": "code",
   "execution_count": null,
   "id": "b3fd9099",
   "metadata": {},
   "outputs": [],
   "source": [
    "with Session() as ses:\n",
    "    query = ses.query(User).filter(User.uuid == uuid)\n",
    "    user_ = query.all()[0]\n",
    "    print(user_)"
   ]
  },
  {
   "cell_type": "code",
   "execution_count": null,
   "id": "e2856b54",
   "metadata": {},
   "outputs": [],
   "source": [
    "user_dict = {\"name\":\"kikkesis\", \"email\":\"kokkelis2\", \"uuid\":uuid}\n",
    "with Session() as ses:\n",
    "    query = ses.query(UserInterface).filter(UserInterface.uuid == uuid)\n",
    "    query.update(user_dict)"
   ]
  },
  {
   "cell_type": "code",
   "execution_count": null,
   "id": "1e11c102",
   "metadata": {},
   "outputs": [],
   "source": [
    "\"\"\"\n",
    "# update with table inheritance fails miserably\n",
    "user_dict = {\"name\":\"kikkesis\", \"email\":\"kokkelis2\", \"uuid\":uuid, \"extradata\":\"some\"}\n",
    "with Session() as ses:\n",
    "    query = ses.query(UserInterface).filter(UserInterface.uuid == uuid)\n",
    "    query.update(user_dict)\n",
    "\"\"\""
   ]
  },
  {
   "cell_type": "code",
   "execution_count": null,
   "id": "4196ca8e",
   "metadata": {},
   "outputs": [],
   "source": [
    "# update for table inheritance fails miserably.. so we do delete & add instead\n",
    "user_dict = {\"name\":\"kikkesis\", \"email\":\"kokkelis2\", \"uuid\":uuid, \"extradata\":\"some\"}\n",
    "with Session() as ses:\n",
    "    query = ses.query(User).filter(User.uuid == uuid)\n",
    "    user = query.all()[0]\n",
    "    ses.delete(user)\n",
    "    user = User(**user_dict)\n",
    "    ses.add(user)"
   ]
  },
  {
   "cell_type": "code",
   "execution_count": null,
   "id": "a977d741",
   "metadata": {},
   "outputs": [],
   "source": [
    "with Session() as ses:\n",
    "    query = ses.query(User).filter(User.uuid == uuid)\n",
    "    print(query.all())\n",
    "    #query.delete()"
   ]
  },
  {
   "cell_type": "code",
   "execution_count": null,
   "id": "5d5a5e6e",
   "metadata": {},
   "outputs": [],
   "source": [
    "with Session() as ses:\n",
    "    query = ses.query(User).filter(User.uuid == uuid)\n",
    "    # query.delete() # this m-f cleans up the whole table..!  maybe due to table inheritance..?\n",
    "    for user in query.all():\n",
    "        ses.delete(user)"
   ]
  },
  {
   "cell_type": "code",
   "execution_count": null,
   "id": "910a60a6",
   "metadata": {},
   "outputs": [],
   "source": [
    "# query users (again)\n",
    "lis = []\n",
    "with Session() as ses:\n",
    "    # pick certain columns as defined in \n",
    "    # pydantic model User.Rout for ses.query\n",
    "    query = ses.query(*(colsFromPydantic(User, User.Rout)))\n",
    "    # query.all() returns a list of User objects\n",
    "    for user in query.all():\n",
    "        lis.append(User.Rout(**user))\n",
    "pprint(lis)"
   ]
  },
  {
   "cell_type": "code",
   "execution_count": null,
   "id": "c7cf9239",
   "metadata": {},
   "outputs": [],
   "source": [
    "# delete all\n",
    "with Session() as ses:\n",
    "    query = ses.query(User)\n",
    "    # query.delete() # this m-f cleans up the whole table..!  maybe due to table inheritance..?\n",
    "    for user in query.all():\n",
    "        ses.delete(user)"
   ]
  },
  {
   "cell_type": "code",
   "execution_count": null,
   "id": "58a0fa89",
   "metadata": {},
   "outputs": [],
   "source": [
    "# query users (again)\n",
    "lis = []\n",
    "with Session() as ses:\n",
    "    # pick certain columns as defined in \n",
    "    # pydantic model User.Rout for ses.query\n",
    "    query = ses.query(*(colsFromPydantic(User, User.Rout)))\n",
    "    # query.all() returns a list of User objects\n",
    "    for user in query.all():\n",
    "        lis.append(User.Rout(**user))\n",
    "pprint(lis)"
   ]
  },
  {
   "cell_type": "code",
   "execution_count": null,
   "id": "3c87b925",
   "metadata": {},
   "outputs": [],
   "source": []
  }
 ],
 "metadata": {
  "kernelspec": {
   "display_name": "Python 3",
   "language": "python",
   "name": "python3"
  },
  "language_info": {
   "codemirror_mode": {
    "name": "ipython",
    "version": 3
   },
   "file_extension": ".py",
   "mimetype": "text/x-python",
   "name": "python",
   "nbconvert_exporter": "python",
   "pygments_lexer": "ipython3",
   "version": "3.8.10"
  },
  "varInspector": {
   "cols": {
    "lenName": 16,
    "lenType": 16,
    "lenVar": 40
   },
   "kernels_config": {
    "python": {
     "delete_cmd_postfix": "",
     "delete_cmd_prefix": "del ",
     "library": "var_list.py",
     "varRefreshCmd": "print(var_dic_list())"
    },
    "r": {
     "delete_cmd_postfix": ") ",
     "delete_cmd_prefix": "rm(",
     "library": "var_list.r",
     "varRefreshCmd": "cat(var_dic_list()) "
    }
   },
   "types_to_exclude": [
    "module",
    "function",
    "builtin_function_or_method",
    "instance",
    "_Feature"
   ],
   "window_display": false
  }
 },
 "nbformat": 4,
 "nbformat_minor": 5
}
